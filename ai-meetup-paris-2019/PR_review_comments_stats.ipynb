{
 "cells": [
  {
   "cell_type": "code",
   "execution_count": 5,
   "metadata": {},
   "outputs": [
    {
     "name": "stdout",
     "output_type": "stream",
     "text": [
      "Populating the interactive namespace from numpy and matplotlib\n"
     ]
    },
    {
     "name": "stderr",
     "output_type": "stream",
     "text": [
      "/home/waren/.local/lib/python3.6/site-packages/IPython/core/magics/pylab.py:160: UserWarning: pylab import has clobbered these variables: ['mean']\n",
      "`%matplotlib` prevents importing * from pylab and numpy\n",
      "  \"\\n`%matplotlib` prevents importing * from pylab and numpy\"\n"
     ]
    }
   ],
   "source": [
    "import codecs\n",
    "from collections import defaultdict\n",
    "import csv\n",
    "import lzma\n",
    "import operator\n",
    "import re\n",
    "from statistics import mean\n",
    "import sys\n",
    "%pylab inline"
   ]
  },
  {
   "cell_type": "code",
   "execution_count": 2,
   "metadata": {},
   "outputs": [],
   "source": [
    "PATH_TO_CSV = \"/home/waren/sourced/data/sourced_datasets/review_comments.csv.xz\""
   ]
  },
  {
   "cell_type": "markdown",
   "metadata": {},
   "source": [
    "## Basic statistics"
   ]
  },
  {
   "cell_type": "code",
   "execution_count": 3,
   "metadata": {},
   "outputs": [],
   "source": [
    "def getusers(filename):\n",
    "    with lzma.open(filename) as archf:\n",
    "        reader = csv.DictReader(codecs.getreader(\"utf-8\")(archf))\n",
    "        for record in reader:\n",
    "            yield record[\"AUTHOR\"]"
   ]
  },
  {
   "cell_type": "code",
   "execution_count": 4,
   "metadata": {},
   "outputs": [
    {
     "name": "stderr",
     "output_type": "stream",
     "text": [
      "25300000\r"
     ]
    }
   ],
   "source": [
    "n_comments = 0\n",
    "users = defaultdict(int)\n",
    "for user in getusers(PATH_TO_CSV):\n",
    "    n_comments += 1\n",
    "    if n_comments % 100000 == 0:\n",
    "        sys.stderr.write(\"%d\\r\" % n_comments)\n",
    "    users[user] += 1"
   ]
  },
  {
   "cell_type": "code",
   "execution_count": 97,
   "metadata": {},
   "outputs": [
    {
     "name": "stdout",
     "output_type": "stream",
     "text": [
      "Number of PR review comments: 25323640\n",
      "Number of different reviewers: 540054\n",
      "Average number of GitHub review comments per user from 2015 to 2019: 46\n"
     ]
    }
   ],
   "source": [
    "print(\"Number of PR review comments: %d\" % (n_comments))\n",
    "print(\"Number of different reviewers: %d\" % (len(users)))\n",
    "print(\"Average number of GitHub review comments per user from 2015 to 2019: %d\" % (mean(list(users.values()))))"
   ]
  },
  {
   "cell_type": "markdown",
   "metadata": {},
   "source": [
    "## Most active reviewers"
   ]
  },
  {
   "cell_type": "code",
   "execution_count": 98,
   "metadata": {},
   "outputs": [
    {
     "data": {
      "text/plain": [
       "[('houndci-bot', 797827),\n",
       " ('houndci', 264998),\n",
       " ('codacy-bot', 237814),\n",
       " ('stickler-ci', 36707),\n",
       " ('sonarcloud[bot]', 20378),\n",
       " ('jreback', 19694),\n",
       " ('seanlip', 19540),\n",
       " ('codeschool-kiddo', 18946),\n",
       " ('stephentoub', 18744),\n",
       " ('vkurennov', 18141)]"
      ]
     },
     "execution_count": 98,
     "metadata": {},
     "output_type": "execute_result"
    }
   ],
   "source": [
    "sorted_users = sorted(users.items(), key=operator.itemgetter(1), reverse=True)\n",
    "sorted_users[:10]"
   ]
  },
  {
   "cell_type": "markdown",
   "metadata": {},
   "source": [
    "## Number of review comments about typos"
   ]
  },
  {
   "cell_type": "code",
   "execution_count": 175,
   "metadata": {},
   "outputs": [],
   "source": [
    "topics = {}\n",
    "topics[\"typos\"] = r\"(?i)\\b(typo|misprint|s/)\\b\"\n",
    "topics[\"doc\"] = r\"(?i)\\b(doc|comment)\\b\"\n",
    "topics[\"quotes\"] = r\"(?i)\\b(quote)\\b\"\n",
    "topics[\"tabs\"] = r\"(?i)\\b(tab)\\b\"\n",
    "topics[\"spacing\"] = r\"(?i)\\b(space|spacing)\\b\"\n",
    "topics[\"format\"] = r\"(?i)\\b(format)\\b\"\n",
    "topics[\"empty line\"] = r\"(?i)\\b(empty line)\\b\"\n",
    "topics[\"style\"] = r\"(?i)\\b(style)\\b\"\n",
    "topics[\"newline\"] = r\"(?i)\\b(newline)\\b\"\n",
    "topics[\"indentation\"] = r\"(?i)\\b(indentation)\\b\"\n",
    "topics[\"too long\"] = r\"(?i)\\b(too long)\\b\"\n",
    "topics[\"blank\"] = r\"(?i)\\b(blank)\\b\"\n",
    "topics[\"align\"] = r\"(?i)\\b(align)\\b\"\n",
    "topics[\"missing\"] = r\"(?i)\\b(missing)\\b\"\n",
    "topics[\"trailing\"] = r\"(?i)\\b(trailing)\\b\"\n",
    "topics[\"comma\"] = r\"(?i)\\b(comma)\\b\"\n",
    "topics[\"line break\"] = r\"(?i)\\b(line break)\\b\""
   ]
  },
  {
   "cell_type": "code",
   "execution_count": 169,
   "metadata": {},
   "outputs": [
    {
     "name": "stdout",
     "output_type": "stream",
     "text": [
      "doc : 3.24%\n",
      "style : 1.07%\n",
      "format : 0.60%\n",
      "spacing : 1.30%\n",
      "newline : 0.29%\n",
      "missing : 1.61%\n",
      "trailing : 0.40%\n",
      "quotes : 0.09%\n",
      "indentation : 0.65%\n",
      "too long : 0.69%\n",
      "typos : 0.77%\n",
      "tabs : 0.20%\n",
      "align : 0.20%\n",
      "comma : 0.25%\n",
      "blank : 0.38%\n",
      "empty line : 0.26%\n",
      "line break : 0.05%\n"
     ]
    }
   ],
   "source": [
    "for topic, comments_topic in comments.items():\n",
    "    print(\"%s : %.2f%%\" % (topic, 100 * len(comments_topic) / c))"
   ]
  },
  {
   "cell_type": "code",
   "execution_count": 156,
   "metadata": {},
   "outputs": [
    {
     "name": "stderr",
     "output_type": "stream",
     "text": [
      "25320000\r"
     ]
    }
   ],
   "source": [
    "c = 0\n",
    "comments = defaultdict(list)\n",
    "with lzma.open(PATH_TO_CSV) as archf:\n",
    "    reader = csv.DictReader(codecs.getreader(\"utf-8\")(archf))\n",
    "    for record in reader:\n",
    "        c += 1\n",
    "        if c % 10000 == 0:\n",
    "            sys.stderr.write(\"%d\\r\" % c)\n",
    "        try:\n",
    "            for topic, regexp in topics.items():\n",
    "                if re.search(regexp, record[\"BODY\"]):\n",
    "                    comments[topic].append(record[\"BODY\"])\n",
    "        except TypeError:\n",
    "            continue"
   ]
  },
  {
   "cell_type": "code",
   "execution_count": 174,
   "metadata": {},
   "outputs": [
    {
     "data": {
      "text/plain": [
       "12868638"
      ]
     },
     "execution_count": 174,
     "metadata": {},
     "output_type": "execute_result"
    }
   ],
   "source": [
    "c"
   ]
  },
  {
   "cell_type": "code",
   "execution_count": 166,
   "metadata": {},
   "outputs": [
    {
     "data": {
      "text/plain": [
       "['There is a slight typo here. I will point it out to you in class',\n",
       " 's/problems/problem',\n",
       " '@Nylanfs \\r\\nUh... Summoner slayer syes? Is this intentional or a typo?',\n",
       " 'This sentence is hard to comprehend. Also s/mean/means that/ if you decide to keep it as it is.',\n",
       " \"s/don't get/cannot receive/\",\n",
       " \"It's a better practice to put constant first in a comparison. Consider this comparison typo issue:\\r\\n``` javascript\\r\\nif (attribute = 'aValue')\\r\\n```\\r\\n``` javascript\\r\\nif ('aValue' = attribute)\\r\\n```\\r\\nThe second form is really easier to detect\\r\\n\\r\\nBut I can change it if it breaks project coding style\",\n",
       " 's/obejcts/objects/',\n",
       " 'UNI_TIMESTAMP is that a typo ?',\n",
       " 'typo ;) \"vestivals\"',\n",
       " 'typo']"
      ]
     },
     "execution_count": 166,
     "metadata": {},
     "output_type": "execute_result"
    }
   ],
   "source": [
    "comments[\"typos\"][:10]"
   ]
  },
  {
   "cell_type": "markdown",
   "metadata": {},
   "source": [
    "## Visuals"
   ]
  },
  {
   "cell_type": "code",
   "execution_count": 178,
   "metadata": {},
   "outputs": [],
   "source": [
    "topics = [\"typos\", \"doc\", \"tab/space\", \"line fromatting\", \"quotes\"]\n",
    "values = [0.77, 3.24, 1.5, 1.29, 0.09]\n",
    "#values = [100 * v/sum(values) for v in values]"
   ]
  },
  {
   "cell_type": "code",
   "execution_count": 195,
   "metadata": {},
   "outputs": [
    {
     "data": {
      "text/plain": [
       "6"
      ]
     },
     "execution_count": 195,
     "metadata": {},
     "output_type": "execute_result"
    }
   ],
   "source": [
    "x.shape[0]"
   ]
  },
  {
   "cell_type": "code",
   "execution_count": 206,
   "metadata": {},
   "outputs": [
    {
     "data": {
      "image/png": "[encoded data removed]",
      "text/plain": [
       "<Figure size 1008x576 with 1 Axes>"
      ]
     },
     "metadata": {},
     "output_type": "display_data"
    }
   ],
   "source": [
    "from matplotlib.colors import LinearSegmentedColormap\n",
    "\n",
    "width = 1.5\n",
    "x = np.arange(width, 2*(len(topics) + 1), 2)\n",
    "cmap = LinearSegmentedColormap.from_list('custom purple', ['#5000BF' ,'#000000'], N=256)\n",
    "\n",
    "def gbar(ax, x, y, width=0.5, bottom=0):\n",
    "    X = [[.6, .6], [.7, .7]]\n",
    "    for left, top in zip(x, y):\n",
    "        right = left + width\n",
    "        ax.imshow(X, interpolation='bicubic', cmap=cmap,\n",
    "                  extent=(left, right, bottom, top), alpha=1)\n",
    "\n",
    "xlim = 0, x.shape[0]\n",
    "ylim = 0, max(values)\n",
    "figure(figsize=(14, 8))\n",
    "ax = subplot(111)\n",
    "\n",
    "style.use('dark_background')\n",
    "ax.set(xlim=xlim, ylim=ylim, autoscale_on=False)\n",
    "\n",
    "ax.spines['right'].set_visible(False)\n",
    "ax.spines['top'].set_visible(False)\n",
    "ax.spines['left'].set_visible(False)\n",
    "ax.spines['bottom'].set_visible(False)\n",
    "\n",
    "ax.tick_params(axis=\"y\",length=4)\n",
    "ax.tick_params(axis=\"x\",length=0)\n",
    "\n",
    "ax.set_ylabel(\"% of PR comments, overall 25.3 million\", fontsize=18, labelpad=15)\n",
    "ax.set_yticklabels([0,0.5,1.0, 1.5, 2.0, 2.5, 3.0], fontsize=18)\n",
    "xticks(x + width / 2, topics, fontsize=18)\n",
    "ax.tick_params(axis='x', which='major', pad=20)\n",
    "\n",
    "gbar(ax, x, values, width=width)\n",
    "ax.set_aspect('auto')\n",
    "savefig(\"review_comments.svg\")"
   ]
  },
  {
   "cell_type": "code",
   "execution_count": null,
   "metadata": {},
   "outputs": [],
   "source": []
  }
 ],
 "metadata": {
  "kernelspec": {
   "display_name": "Python 3",
   "language": "python",
   "name": "python3"
  },
  "language_info": {
   "codemirror_mode": {
    "name": "ipython",
    "version": 3
   },
   "file_extension": ".py",
   "mimetype": "text/x-python",
   "name": "python",
   "nbconvert_exporter": "python",
   "pygments_lexer": "ipython3",
   "version": "3.6.7"
  }
 },
 "nbformat": 4,
 "nbformat_minor": 2
}
